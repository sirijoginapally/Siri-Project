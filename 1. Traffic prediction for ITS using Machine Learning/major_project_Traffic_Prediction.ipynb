{
 "cells": [
  {
   "cell_type": "code",
   "execution_count": 1,
   "metadata": {
    "id": "caTejgXroG8t"
   },
   "outputs": [],
   "source": [
    "import os\n",
    "import pandas as pd\n",
    "import numpy as np\n",
    "from sklearn.preprocessing import MinMaxScaler\n",
    "from sklearn.metrics import mean_squared_error\n",
    "import matplotlib.pyplot as plt\n",
    "from sklearn.metrics import mean_squared_error\n",
    "#added lines\n",
    "import tensorflow\n",
    "from tensorflow import keras\n",
    "#end of added lines\n",
    "from keras.layers import Dense, SimpleRNN\n",
    "from keras.models import Sequential\n",
    "from keras.layers import Dense\n",
    "from keras.layers import LSTM  #class for LSTM regression\n",
    "from keras.layers import Dropout\n",
    "from keras.models import model_from_json\n",
    "import pickle\n",
    "from keras.layers import GRU\n",
    "import random"
   ]
  },
  {
   "cell_type": "code",
   "execution_count": 2,
   "metadata": {
    "id": "voUJStdRoZlv"
   },
   "outputs": [],
   "source": [
    "#global rnn_rmse, gru_rmse, lstm_rmse, regressor\n",
    "\n",
    "sc = MinMaxScaler(feature_range = (0, 1))"
   ]
  },
  {
   "cell_type": "code",
   "execution_count": 3,
   "metadata": {
    "id": "lPPMFhkUoje6"
   },
   "outputs": [],
   "source": [
    "dataset = pd.read_csv(\"traffic.csv\",nrows=300)\n",
    "dataset[\"DateTime\"]= pd.to_datetime(dataset[\"DateTime\"])\n",
    "dataset = dataset.drop([\"ID\"], axis=1) #dropping IDs"
   ]
  },
  {
   "cell_type": "code",
   "execution_count": 4,
   "metadata": {
    "colab": {
     "base_uri": "https://localhost:8080/"
    },
    "id": "RsJkezrZRuEA",
    "outputId": "676e87bd-4313-4240-9e92-403b4cee5382"
   },
   "outputs": [
    {
     "data": {
      "text/plain": [
       "(300, 3)"
      ]
     },
     "execution_count": 4,
     "metadata": {},
     "output_type": "execute_result"
    }
   ],
   "source": [
    "dataset.shape"
   ]
  },
  {
   "cell_type": "code",
   "execution_count": 5,
   "metadata": {
    "id": "LJY75XZ1ojhZ"
   },
   "outputs": [],
   "source": [
    "dataset[\"Year\"]= dataset['DateTime'].dt.year\n",
    "dataset[\"Month\"]= dataset['DateTime'].dt.month\n",
    "dataset[\"Date_no\"]= dataset['DateTime'].dt.day\n",
    "dataset[\"Hour\"]= dataset['DateTime'].dt.hour"
   ]
  },
  {
   "cell_type": "code",
   "execution_count": 6,
   "metadata": {
    "colab": {
     "base_uri": "https://localhost:8080/"
    },
    "id": "B76nx9mZojkQ",
    "outputId": "caea8337-6a98-409f-9714-e24318ace621"
   },
   "outputs": [
    {
     "name": "stdout",
     "output_type": "stream",
     "text": [
      "             DateTime  Junction  Vehicles  Year  Month  Date_no  Hour\n",
      "0 2015-11-01 00:00:00         1        15  2015     11        1     0\n",
      "1 2015-11-01 01:00:00         1        13  2015     11        1     1\n",
      "2 2015-11-01 02:00:00         1        10  2015     11        1     2\n",
      "3 2015-11-01 03:00:00         1         7  2015     11        1     3\n",
      "4 2015-11-01 04:00:00         1         9  2015     11        1     4\n",
      "[ 0  1  2  3  4  5  6  7  8  9 10 11 12 13 14 15 16 17 18 19 20 21 22 23]\n"
     ]
    }
   ],
   "source": [
    "print(dataset.head())\n",
    "print(np.unique(dataset['Hour']))"
   ]
  },
  {
   "cell_type": "code",
   "execution_count": 7,
   "metadata": {
    "id": "yUHUsrrTojm_"
   },
   "outputs": [],
   "source": [
    "temp = dataset.values\n",
    "Y = temp[:,2:3]\n",
    "dataset = dataset.drop([\"Vehicles\"], axis=1)\n",
    "dataset = dataset.values\n",
    "X = dataset[:,1:dataset.shape[1]]\n"
   ]
  },
  {
   "cell_type": "code",
   "execution_count": 8,
   "metadata": {
    "id": "vsfsgocxojph"
   },
   "outputs": [],
   "source": [
    "X = sc.fit_transform(X)\n",
    "Y = sc.fit_transform(Y)"
   ]
  },
  {
   "cell_type": "code",
   "execution_count": 9,
   "metadata": {
    "id": "teGAvm4lojsI"
   },
   "outputs": [],
   "source": [
    "X_train = []\n",
    "y_train = []"
   ]
  },
  {
   "cell_type": "code",
   "execution_count": 10,
   "metadata": {
    "id": "K366Uqypojul"
   },
   "outputs": [],
   "source": [
    "for i in range(10, 100):\n",
    "    X_train.append(X[i-10:i, 0:X.shape[1]])\n",
    "    y_train.append(Y[i, 0])\n",
    "X_train, y_train = np.array(X_train), np.array(y_train)\n"
   ]
  },
  {
   "cell_type": "code",
   "execution_count": 11,
   "metadata": {
    "colab": {
     "base_uri": "https://localhost:8080/"
    },
    "id": "Pv_J4UpaSqRz",
    "outputId": "d33db796-3f68-41ad-9eb8-bdc2a70c28ae"
   },
   "outputs": [
    {
     "data": {
      "text/plain": [
       "(90, 10, 5)"
      ]
     },
     "execution_count": 11,
     "metadata": {},
     "output_type": "execute_result"
    }
   ],
   "source": [
    "X_train.shape"
   ]
  },
  {
   "cell_type": "code",
   "execution_count": 12,
   "metadata": {
    "colab": {
     "base_uri": "https://localhost:8080/"
    },
    "id": "BlwXFV_jTAuJ",
    "outputId": "de0b163a-4c50-4db3-8611-9dbfd5602f69"
   },
   "outputs": [
    {
     "data": {
      "text/plain": [
       "(90,)"
      ]
     },
     "execution_count": 12,
     "metadata": {},
     "output_type": "execute_result"
    }
   ],
   "source": [
    "y_train.shape"
   ]
  },
  {
   "cell_type": "code",
   "execution_count": 13,
   "metadata": {
    "id": "bOBWU8QdojyH"
   },
   "outputs": [],
   "source": [
    "def TrainRNN(request):\n",
    "    if request.method == 'GET':\n",
    "        global rnn_rmse, sc, X_train, y_train\n",
    "        output = \"\"\n",
    "        if os.path.exists('model/rnn_model.json'):\n",
    "            with open('model/rnn_model.json', \"r\") as json_file:\n",
    "                loaded_model_json = json_file.read()\n",
    "                rnn = model_from_json(loaded_model_json)\n",
    "            json_file.close()\n",
    "            rnn.load_weights(\"model/rnn_model_weights.h5\")\n",
    "            rnn._make_predict_function()\n",
    "        else:\n",
    "            rnn = Sequential()\n",
    "            rnn.add(SimpleRNN(units=32, input_shape=(X_train.shape[1], X_train.shape[2]), activation=\"relu\"))\n",
    "            rnn.add(Dense(8, activation=\"relu\"))\n",
    "            rnn.add(Dense(1))\n",
    "            rnn.compile(loss='mean_squared_error', optimizer='adam')\n",
    "            rnn.fit(X_train, y_train, epochs = 100, batch_size = 16)\n",
    "            rnn.save_weights('model/rnn_model_weights.h5')\n",
    "            model_json = rnn.to_json()\n",
    "            with open(\"model/rnn_model.json\", \"w\") as json_file:\n",
    "                json_file.write(model_json)\n",
    "            json_file.close()\n",
    "        #performing prediction on test data\n",
    "        predict_traffic = rnn.predict(X_train)\n",
    "        predict_traffic = sc.inverse_transform(predict_traffic)\n",
    "        predict_traffic = predict_traffic.ravel()\n",
    "        y_train1 = y_train.reshape(y_train.shape[0],1)\n",
    "        labels = sc.inverse_transform(y_train1)\n",
    "        labels = labels.ravel()\n",
    "        print(\"Simple RNN Predicted Growth: \"+str(predict_traffic))\n",
    "        print(\"\\nOriginal Traffic: \"+str(labels))\n",
    "        #calculating RNN MSE\n",
    "        rnn_rmse = mean_squared_error(labels,predict_traffic)\n",
    "        output+='<tr><td><font size=\"\" color=\"black\">Simple RNN</td>'\n",
    "        output+='<td><font size=\"\" color=\"black\">'+str(rnn_rmse)+'</td>'\n",
    "        plt.plot(labels, color = 'red', label = 'Original Traffic')\n",
    "        plt.plot(predict_traffic, color = 'green', label = 'Predicted Traffic')\n",
    "        plt.title('Simple RNN Traffic Prediction')\n",
    "        plt.xlabel('Test Data')\n",
    "        plt.ylabel('Predicted Traffic')\n",
    "        plt.legend()\n",
    "        plt.show()\n",
    "        context= {'data':output}\n",
    "        return render(request, 'ViewOutput.html', context)"
   ]
  },
  {
   "cell_type": "code",
   "execution_count": 14,
   "metadata": {
    "id": "JxH8TAgMpP1N"
   },
   "outputs": [],
   "source": [
    "def TrainGRU(request):\n",
    "    if request.method == 'GET':\n",
    "        global rnn_rmse, gru_rmse, sc, X_train, y_train\n",
    "        output = \"\"\n",
    "        if os.path.exists('model/gru_model.json'):\n",
    "            with open('model/gru_model.json', \"r\") as json_file:\n",
    "                loaded_model_json = json_file.read()\n",
    "                gru = model_from_json(loaded_model_json)\n",
    "            json_file.close()\n",
    "            gru.load_weights(\"model/gru_model_weights.h5\")\n",
    "            gru._make_predict_function()\n",
    "        else:\n",
    "            gru = Sequential()\n",
    "            gru.add(GRU(units=32, input_shape=(X_train.shape[1], X_train.shape[2]), activation=\"relu\"))\n",
    "            gru.add(Dense(8, activation=\"relu\"))\n",
    "            gru.add(Dense(1))\n",
    "            gru.compile(loss='mean_squared_error', optimizer='adam')\n",
    "            gru.fit(X_train, y_train, epochs = 700, batch_size = 16)\n",
    "            gru.save_weights('model/gru_model_weights.h5')\n",
    "            model_json = gru.to_json()\n",
    "            with open(\"model/gru_model.json\", \"w\") as json_file:\n",
    "                json_file.write(model_json)\n",
    "            json_file.close()\n",
    "        #performing prediction on test data\n",
    "        predict_traffic = gru.predict(X_train)\n",
    "        predict_traffic = sc.inverse_transform(predict_traffic)\n",
    "        predict_traffic = predict_traffic.ravel()\n",
    "        y_train1 = y_train.reshape(y_train.shape[0],1)\n",
    "        labels = sc.inverse_transform(y_train1)\n",
    "        labels = labels.ravel()\n",
    "        print(\"GRU Predicted Growth: \"+str(predict_traffic))\n",
    "        print(\"\\nOriginal Traffic: \"+str(labels))\n",
    "        #calculating RNN MSE\n",
    "        gru_rmse = mean_squared_error(labels,predict_traffic)\n",
    "        output+='<tr><td><font size=\"\" color=\"black\">Simple RNN</td>'\n",
    "        output+='<td><font size=\"\" color=\"black\">'+str(rnn_rmse)+'</td>'\n",
    "        output+='<tr><td><font size=\"\" color=\"black\">GRU</td>'\n",
    "        output+='<td><font size=\"\" color=\"black\">'+str(gru_rmse)+'</td>'\n",
    "        plt.plot(labels, color = 'red', label = 'Original Traffic')\n",
    "        plt.plot(predict_traffic, color = 'green', label = 'Predicted Traffic')\n",
    "        plt.title('GRU Traffic Prediction')\n",
    "        plt.xlabel('Test Data')\n",
    "        plt.ylabel('Predicted Traffic')\n",
    "        plt.legend()\n",
    "        plt.show()\n",
    "        context= {'data':output}\n",
    "        return render(request, 'ViewOutput.html', context)\n"
   ]
  },
  {
   "cell_type": "code",
   "execution_count": 15,
   "metadata": {
    "id": "1ShmEFaQpQA4"
   },
   "outputs": [],
   "source": [
    "def TrainLSTM(request):\n",
    "    if request.method == 'GET':\n",
    "        global rnn_rmse, gru_rmse, sc, lstm_rmse, regressor, X_train, y_train\n",
    "        output = \"\"\n",
    "        if os.path.exists('model/model.json'):\n",
    "            with open('model/model.json', \"r\") as json_file:\n",
    "                loaded_model_json = json_file.read()\n",
    "                regressor = model_from_json(loaded_model_json)\n",
    "            json_file.close()\n",
    "            regressor.load_weights(\"model/model_weights.h5\")\n",
    "            regressor._make_predict_function()\n",
    "        else:\n",
    "            regressor = Sequential()\n",
    "            regressor.add(LSTM(units = 50, return_sequences = True, input_shape = (X_train.shape[1], X_train.shape[2])))\n",
    "            regressor.add(Dropout(0.2))\n",
    "            regressor.add(LSTM(units = 50, return_sequences = True))\n",
    "            regressor.add(Dropout(0.2))\n",
    "            regressor.add(LSTM(units = 50, return_sequences = True))\n",
    "            regressor.add(Dropout(0.2))\n",
    "            regressor.add(LSTM(units = 50))\n",
    "            regressor.add(Dropout(0.2))\n",
    "            regressor.add(Dense(units = 1))\n",
    "            regressor.compile(optimizer = 'adam', loss = 'mean_squared_error')\n",
    "            regressor.fit(X_train, y_train, epochs = 1000, batch_size = 16)\n",
    "            regressor.save_weights('model/model_weights.h5')\n",
    "            model_json = regressor.to_json()\n",
    "            with open(\"model/model.json\", \"w\") as json_file:\n",
    "                json_file.write(model_json)\n",
    "            json_file.close()\n",
    "        #performing prediction on test data\n",
    "        predict_traffic = regressor.predict(X_train)\n",
    "        predict_traffic = sc.inverse_transform(predict_traffic)\n",
    "        predict_traffic = predict_traffic.ravel()\n",
    "        y_train1 = y_train.reshape(y_train.shape[0],1)\n",
    "        labels = sc.inverse_transform(y_train1)\n",
    "        labels = labels.ravel()\n",
    "        print(\"LSTM Predicted Traffic: \"+str(predict_traffic))\n",
    "        print(\"\\nOriginal Traffic: \"+str(labels))\n",
    "        #calculating LSTM RMSE\n",
    "        lstm_rmse = mean_squared_error(labels,predict_traffic)\n",
    "        output+='<tr><td><font size=\"\" color=\"black\">Simple RNN</td>'\n",
    "        output+='<td><font size=\"\" color=\"black\">'+str(rnn_rmse)+'</td>'\n",
    "        output+='<tr><td><font size=\"\" color=\"black\">GRU</td>'\n",
    "        output+='<td><font size=\"\" color=\"black\">'+str(gru_rmse)+'</td>'\n",
    "        output+='<tr><td><font size=\"\" color=\"black\">LSTM</td>'\n",
    "        output+='<td><font size=\"\" color=\"black\">'+str(lstm_rmse)+'</td>'\n",
    "        plt.plot(labels, color = 'red', label = 'Original Traffic')\n",
    "        plt.plot(predict_traffic, color = 'green', label = 'Predicted Traffic')\n",
    "        plt.title('LSTM Traffic Prediction')\n",
    "        plt.xlabel('Test Data')\n",
    "        plt.ylabel('Predicted Traffic')\n",
    "        plt.legend()\n",
    "        plt.show()\n",
    "        context= {'data':output}\n",
    "        return render(request, 'ViewOutput.html', context)\n"
   ]
  }
 ],
 "metadata": {
  "colab": {
   "provenance": []
  },
  "kernelspec": {
   "display_name": "Python 3 (ipykernel)",
   "language": "python",
   "name": "python3"
  },
  "language_info": {
   "codemirror_mode": {
    "name": "ipython",
    "version": 3
   },
   "file_extension": ".py",
   "mimetype": "text/x-python",
   "name": "python",
   "nbconvert_exporter": "python",
   "pygments_lexer": "ipython3",
   "version": "3.9.13"
  }
 },
 "nbformat": 4,
 "nbformat_minor": 1
}
